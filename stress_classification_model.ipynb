{
  "cells": [
    {
      "cell_type": "markdown",
      "metadata": {},
      "source": [
        "### Setup the environment"
      ]
    },
    {
      "cell_type": "code",
      "execution_count": null,
      "metadata": {
        "colab": {
          "base_uri": "https://localhost:8080/"
        },
        "collapsed": true,
        "id": "h-fG8RVc5oZG",
        "outputId": "5f565c08-650b-4e39-9070-0199df328224"
      },
      "outputs": [],
      "source": [
        "!chmod +x setup_env.sh\n",
        "~./setup_env.sh"
      ]
    },
    {
      "cell_type": "code",
      "execution_count": null,
      "metadata": {
        "id": "SDQjQzKlX2mY"
      },
      "outputs": [],
      "source": [
        "import sys\n",
        "sys.path.append(\"/content/NeMo/\")"
      ]
    },
    {
      "cell_type": "markdown",
      "metadata": {},
      "source": [
        "### Import Statements"
      ]
    },
    {
      "cell_type": "code",
      "execution_count": null,
      "metadata": {},
      "outputs": [],
      "source": [
        "import os\n",
        "import datetime\n",
        "import nemo.collections.asr as nemo_asr\n",
        "from utils import load_waveform, extract_prosodic_features, pad_tensor\n",
        "from config import CONFIG\n",
        "from torch.utils.data import DataLoader\n",
        "from model import ClassficiationHead, StressClassifier\n",
        "from train_test import train, test"
      ]
    },
    {
      "cell_type": "markdown",
      "metadata": {},
      "source": [
        "### Make the dataset Ready"
      ]
    },
    {
      "cell_type": "markdown",
      "metadata": {},
      "source": [
        "Keep the `Denoise_train.rar`, `label.csv` file in the current path"
      ]
    },
    {
      "cell_type": "code",
      "execution_count": null,
      "metadata": {
        "colab": {
          "base_uri": "https://localhost:8080/"
        },
        "id": "IrUZNB7W8ZSX",
        "outputId": "0e014a70-c4bd-4c96-fec8-76a8254a6b05"
      },
      "outputs": [],
      "source": [
        "# If the dataset is compressed then only use this\n",
        "!apt install rar unrar\n",
        "!unrar x /content/Denoise_train.rar"
      ]
    },
    {
      "cell_type": "code",
      "execution_count": 17,
      "metadata": {
        "id": "-SFli7Ug8Sl_"
      },
      "outputs": [],
      "source": [
        "!mkdir /content/input_ready/"
      ]
    },
    {
      "cell_type": "markdown",
      "metadata": {},
      "source": [
        "Make the dataset compatable with the nemo preprocessor and keep it in the folder named `/Dataset/input_ready/`"
      ]
    },
    {
      "cell_type": "code",
      "execution_count": null,
      "metadata": {
        "colab": {
          "base_uri": "https://localhost:8080/",
          "height": 193
        },
        "collapsed": true,
        "id": "GbzF4OV88PXB",
        "outputId": "e5028717-b188-4cab-d41f-b7391f2a7f15"
      },
      "outputs": [],
      "source": [
        "# Google Drive\n",
        "Raw_DatasetPath = CONFIG[\"raw_audio_path\"]\n",
        "InputReady_DatasetPath = \"/content/Dataset/input_ready/\"\n",
        "\n",
        "# Local \n",
        "# Raw_DatasetPath = \"./Dataset/Denoise_train/\" \n",
        "# InputReady_DatasetPath = \"./Dataset/input_ready/\""
      ]
    },
    {
      "cell_type": "code",
      "execution_count": null,
      "metadata": {},
      "outputs": [],
      "source": [
        "files = os.listdir(Raw_DatasetPath)\n",
        "\n",
        "for file in files[0:10]:\n",
        "  !ffmpeg -i Raw_DatasetPath+file -ac 1 -ar 16000 InputReady_DatasetPath+file"
      ]
    },
    {
      "cell_type": "markdown",
      "metadata": {},
      "source": [
        "### Load the dataset"
      ]
    },
    {
      "cell_type": "code",
      "execution_count": null,
      "metadata": {
        "colab": {
          "base_uri": "https://localhost:8080/"
        },
        "id": "30d4167f",
        "outputId": "73d7a36b-73d6-488d-8269-7dd9b3385ed6"
      },
      "outputs": [],
      "source": [
        "AudDataset = AudioDataset(audio_paths=InputReady_DatasetPath, csv_path=CONFIG[\"train_csv_path\"], preprocessor=model.preprocessor, device)\n",
        "AudDataLoader = DataLoader(AudDataset, batch_size=32, shuffle=True)\n",
        "dataloader = DataLoader(dataset, batch_size=batch_size, shuffle=True)"
      ]
    },
    {
      "cell_type": "markdown",
      "metadata": {},
      "source": [
        "### Load the nemo model"
      ]
    },
    {
      "cell_type": "code",
      "execution_count": null,
      "metadata": {
        "colab": {
          "base_uri": "https://localhost:8080/",
          "height": 1000,
          "referenced_widgets": [
            "32d3816c99ed4b978b7e73baa3cd675a",
            "73bf45e6cf8f433d8785c592e797d516",
            "67ee82415fe74cf58b03a03338f1166e",
            "b02b95c3f29443bea90128f05d48e892",
            "dfbe1efebd354ce888b502b226937943",
            "8b519c723d154795b250a8f449061e9b",
            "ac573c10703c494a8bda16ab1db72bd1",
            "c30d5953402a42de92142736ea45ad11",
            "e4e44a41393a45d99af8067d2ff29370",
            "f1b84c7bdc4c4963b7931692abbbce73",
            "6594375ac76147909b95f84a38493721"
          ]
        },
        "collapsed": true,
        "id": "W1qZxWUt8QUW",
        "outputId": "3b73ed55-29ae-45f1-bae3-913249a23f48"
      },
      "outputs": [],
      "source": [
        "model = nemo_asr.models.ASRModel.from_pretrained(\"ai4bharat/indicconformer_stt_hi_hybrid_rnnt_large\")\n",
        "encoder = model.encoder"
      ]
    },
    {
      "cell_type": "markdown",
      "metadata": {},
      "source": [
        "Fix the `encoder_output_shape` and `prosody_features_shape` by manually passing a `.wav` file to the encoder and opensmile. "
      ]
    },
    {
      "cell_type": "code",
      "execution_count": null,
      "metadata": {
        "id": "UTfoRwTBf8sX"
      },
      "outputs": [],
      "source": [
        "f, f_len = load_waveform(\"./content/dummy_file.wav\", encoder.preprocessor, CONFIG[\"max_audio_sequence_length\"], model.device)\n",
        "encoder_output_shape = (f[1],f[2])\n",
        "f_pros = extract_prosodic_features(\"./content/dummy_file.wav\", CONFIG[\"max_audio_sequence_length\"])\n",
        "prosody_shape = (f_pros(1),f_pros(2))"
      ]
    },
    {
      "cell_type": "markdown",
      "metadata": {},
      "source": [
        "`Freeze` the encoder parameters to ensure encoder is not getting trained during finetuning"
      ]
    },
    {
      "cell_type": "code",
      "execution_count": null,
      "metadata": {
        "id": "Xohruw90RYHA"
      },
      "outputs": [],
      "source": [
        "device = torch.device(\"cuda\" if torch.cuda.is_available() else \"cpu\")\n",
        "encoder.freeze()\n",
        "encoder = encoder.to(device)"
      ]
    },
    {
      "cell_type": "markdown",
      "metadata": {},
      "source": [
        "### Load the custom model"
      ]
    },
    {
      "cell_type": "code",
      "execution_count": null,
      "metadata": {
        "id": "cDm2Dnpamro7"
      },
      "outputs": [],
      "source": [
        "classifier_head = ClassificationHead(encoder_output_shape=encoder_output_shape,\n",
        "                                     prosody_shape=prosody_shape,\n",
        "                                     max_output_seq_length=CONFIG[\"max_output_token_length\"],\n",
        "                                     word_level_feature_dim=128)"
      ]
    },
    {
      "cell_type": "code",
      "execution_count": null,
      "metadata": {
        "id": "7TKUvZi3cAIc"
      },
      "outputs": [],
      "source": [
        "epochs = CONFIG[\"epochs\"]\n",
        "batch_size = CONFIG[\"batch_size\"]\n",
        "learning_rate = CONFIG[\"lr\"]"
      ]
    },
    {
      "cell_type": "markdown",
      "metadata": {},
      "source": [
        "### Patch the encoder and CustomModel"
      ]
    },
    {
      "cell_type": "code",
      "execution_count": null,
      "metadata": {
        "id": "88k1I18Jb9PD"
      },
      "outputs": [],
      "source": [
        "CustomModel = StressClassifier(encoder=encoder, classifier_head=classifier_head).to(device)\n",
        "criterion = nn.BCEWithLogitsLoss()\n",
        "optimizer = torch.optim.Adam(model.classifier_head.parameters(), lr=learning_rate)"
      ]
    },
    {
      "cell_type": "markdown",
      "metadata": {},
      "source": [
        "### Train the model"
      ]
    },
    {
      "cell_type": "code",
      "execution_count": null,
      "metadata": {},
      "outputs": [],
      "source": [
        "train(CustomModel, dataloader, optimizer, criterion, device, epochs)"
      ]
    },
    {
      "cell_type": "code",
      "execution_count": null,
      "metadata": {},
      "outputs": [],
      "source": [
        "save_as = CONFIG[\"model_save_path\"] + f\"/Pretrained_Saved({datetime.date.now().strftime(\"%Y-%m-%d %H:%M:%S\")})\"\n",
        "torch.save(CustomModel.state_dict(), save_as)\n",
        "print(f\"Model saved to {save_path}\")"
      ]
    },
    {
      "cell_type": "code",
      "execution_count": null,
      "metadata": {},
      "outputs": [],
      "source": [
        "model_loaded = StressClassifier(encoder=encoder, classifier_head=classifier_head).to(device)\n",
        "model_loaded.load_state_dict(torch.load(save_as))"
      ]
    },
    {
      "cell_type": "markdown",
      "metadata": {},
      "source": [
        "### Test the model"
      ]
    },
    {
      "cell_type": "code",
      "execution_count": null,
      "metadata": {},
      "outputs": [],
      "source": [
        "# Testing on train data\n",
        "df = pd.read_excel(CONFIG[\"train_csv_path\"])\n",
        "df = df.drop(\"Transcript\", axis=1)\n",
        "merged_df = df.copy()\n",
        "merged_df['Label'] = df.iloc[:, 1:].values.tolist()\n",
        "merged_df['Label'] = merged_df['Label'].apply(lambda x: [i for i in x if pd.notna(i)])\n",
        "# Keep only 'Audio Link' and the new merged column\n",
        "\n",
        "training_labels = merged_df[['Audio Link', 'Label']].to_dict(orient=\"records\")\n",
        "test_acc_on_training_data = []\n",
        "for i in res:\n",
        "    if \"denoised_\"+i[\"Audio Link\"]+\".wav\" in os.listdir(\"/content/input_ready/\"):\n",
        "        audio_file_name = audio_paths + \"/denoised_\" + i[\"Audio Link\"] + \".wav\" \n",
        "        preds = test(audio_file_name, model_loaded, encoder.preprocessor, device)\n",
        "        expected = pad_tensor(i[\"Label\"], int(CONFIG[\"max_output_length\"]) - len(i[\"Label\"]))\n",
        "        crct_pred += (preds == expected.bool()).sum().item()\n",
        "        actual_pred += labels.numel()\n",
        "        test_acc_on_training_data.append(100 * crct_preds/actual_pred)"
      ]
    }
  ],
  "metadata": {
    "colab": {
      "provenance": []
    },
    "kernelspec": {
      "display_name": "Python 3",
      "name": "python3"
    },
    "language_info": {
      "name": "python"
    },
    "widgets": {
      "application/vnd.jupyter.widget-state+json": {
        "32d3816c99ed4b978b7e73baa3cd675a": {
          "model_module": "@jupyter-widgets/controls",
          "model_module_version": "1.5.0",
          "model_name": "HBoxModel",
          "state": {
            "_dom_classes": [],
            "_model_module": "@jupyter-widgets/controls",
            "_model_module_version": "1.5.0",
            "_model_name": "HBoxModel",
            "_view_count": null,
            "_view_module": "@jupyter-widgets/controls",
            "_view_module_version": "1.5.0",
            "_view_name": "HBoxView",
            "box_style": "",
            "children": [
              "IPY_MODEL_73bf45e6cf8f433d8785c592e797d516",
              "IPY_MODEL_67ee82415fe74cf58b03a03338f1166e",
              "IPY_MODEL_b02b95c3f29443bea90128f05d48e892"
            ],
            "layout": "IPY_MODEL_dfbe1efebd354ce888b502b226937943"
          }
        },
        "6594375ac76147909b95f84a38493721": {
          "model_module": "@jupyter-widgets/controls",
          "model_module_version": "1.5.0",
          "model_name": "DescriptionStyleModel",
          "state": {
            "_model_module": "@jupyter-widgets/controls",
            "_model_module_version": "1.5.0",
            "_model_name": "DescriptionStyleModel",
            "_view_count": null,
            "_view_module": "@jupyter-widgets/base",
            "_view_module_version": "1.2.0",
            "_view_name": "StyleView",
            "description_width": ""
          }
        },
        "67ee82415fe74cf58b03a03338f1166e": {
          "model_module": "@jupyter-widgets/controls",
          "model_module_version": "1.5.0",
          "model_name": "FloatProgressModel",
          "state": {
            "_dom_classes": [],
            "_model_module": "@jupyter-widgets/controls",
            "_model_module_version": "1.5.0",
            "_model_name": "FloatProgressModel",
            "_view_count": null,
            "_view_module": "@jupyter-widgets/controls",
            "_view_module_version": "1.5.0",
            "_view_name": "ProgressView",
            "bar_style": "success",
            "description": "",
            "description_tooltip": null,
            "layout": "IPY_MODEL_c30d5953402a42de92142736ea45ad11",
            "max": 523192320,
            "min": 0,
            "orientation": "horizontal",
            "style": "IPY_MODEL_e4e44a41393a45d99af8067d2ff29370",
            "value": 523192320
          }
        },
        "73bf45e6cf8f433d8785c592e797d516": {
          "model_module": "@jupyter-widgets/controls",
          "model_module_version": "1.5.0",
          "model_name": "HTMLModel",
          "state": {
            "_dom_classes": [],
            "_model_module": "@jupyter-widgets/controls",
            "_model_module_version": "1.5.0",
            "_model_name": "HTMLModel",
            "_view_count": null,
            "_view_module": "@jupyter-widgets/controls",
            "_view_module_version": "1.5.0",
            "_view_name": "HTMLView",
            "description": "",
            "description_tooltip": null,
            "layout": "IPY_MODEL_8b519c723d154795b250a8f449061e9b",
            "placeholder": "​",
            "style": "IPY_MODEL_ac573c10703c494a8bda16ab1db72bd1",
            "value": "(…)cconformer_stt_hi_hybrid_rnnt_large.nemo: 100%"
          }
        },
        "8b519c723d154795b250a8f449061e9b": {
          "model_module": "@jupyter-widgets/base",
          "model_module_version": "1.2.0",
          "model_name": "LayoutModel",
          "state": {
            "_model_module": "@jupyter-widgets/base",
            "_model_module_version": "1.2.0",
            "_model_name": "LayoutModel",
            "_view_count": null,
            "_view_module": "@jupyter-widgets/base",
            "_view_module_version": "1.2.0",
            "_view_name": "LayoutView",
            "align_content": null,
            "align_items": null,
            "align_self": null,
            "border": null,
            "bottom": null,
            "display": null,
            "flex": null,
            "flex_flow": null,
            "grid_area": null,
            "grid_auto_columns": null,
            "grid_auto_flow": null,
            "grid_auto_rows": null,
            "grid_column": null,
            "grid_gap": null,
            "grid_row": null,
            "grid_template_areas": null,
            "grid_template_columns": null,
            "grid_template_rows": null,
            "height": null,
            "justify_content": null,
            "justify_items": null,
            "left": null,
            "margin": null,
            "max_height": null,
            "max_width": null,
            "min_height": null,
            "min_width": null,
            "object_fit": null,
            "object_position": null,
            "order": null,
            "overflow": null,
            "overflow_x": null,
            "overflow_y": null,
            "padding": null,
            "right": null,
            "top": null,
            "visibility": null,
            "width": null
          }
        },
        "ac573c10703c494a8bda16ab1db72bd1": {
          "model_module": "@jupyter-widgets/controls",
          "model_module_version": "1.5.0",
          "model_name": "DescriptionStyleModel",
          "state": {
            "_model_module": "@jupyter-widgets/controls",
            "_model_module_version": "1.5.0",
            "_model_name": "DescriptionStyleModel",
            "_view_count": null,
            "_view_module": "@jupyter-widgets/base",
            "_view_module_version": "1.2.0",
            "_view_name": "StyleView",
            "description_width": ""
          }
        },
        "b02b95c3f29443bea90128f05d48e892": {
          "model_module": "@jupyter-widgets/controls",
          "model_module_version": "1.5.0",
          "model_name": "HTMLModel",
          "state": {
            "_dom_classes": [],
            "_model_module": "@jupyter-widgets/controls",
            "_model_module_version": "1.5.0",
            "_model_name": "HTMLModel",
            "_view_count": null,
            "_view_module": "@jupyter-widgets/controls",
            "_view_module_version": "1.5.0",
            "_view_name": "HTMLView",
            "description": "",
            "description_tooltip": null,
            "layout": "IPY_MODEL_f1b84c7bdc4c4963b7931692abbbce73",
            "placeholder": "​",
            "style": "IPY_MODEL_6594375ac76147909b95f84a38493721",
            "value": " 523M/523M [00:05&lt;00:00, 48.8MB/s]"
          }
        },
        "c30d5953402a42de92142736ea45ad11": {
          "model_module": "@jupyter-widgets/base",
          "model_module_version": "1.2.0",
          "model_name": "LayoutModel",
          "state": {
            "_model_module": "@jupyter-widgets/base",
            "_model_module_version": "1.2.0",
            "_model_name": "LayoutModel",
            "_view_count": null,
            "_view_module": "@jupyter-widgets/base",
            "_view_module_version": "1.2.0",
            "_view_name": "LayoutView",
            "align_content": null,
            "align_items": null,
            "align_self": null,
            "border": null,
            "bottom": null,
            "display": null,
            "flex": null,
            "flex_flow": null,
            "grid_area": null,
            "grid_auto_columns": null,
            "grid_auto_flow": null,
            "grid_auto_rows": null,
            "grid_column": null,
            "grid_gap": null,
            "grid_row": null,
            "grid_template_areas": null,
            "grid_template_columns": null,
            "grid_template_rows": null,
            "height": null,
            "justify_content": null,
            "justify_items": null,
            "left": null,
            "margin": null,
            "max_height": null,
            "max_width": null,
            "min_height": null,
            "min_width": null,
            "object_fit": null,
            "object_position": null,
            "order": null,
            "overflow": null,
            "overflow_x": null,
            "overflow_y": null,
            "padding": null,
            "right": null,
            "top": null,
            "visibility": null,
            "width": null
          }
        },
        "dfbe1efebd354ce888b502b226937943": {
          "model_module": "@jupyter-widgets/base",
          "model_module_version": "1.2.0",
          "model_name": "LayoutModel",
          "state": {
            "_model_module": "@jupyter-widgets/base",
            "_model_module_version": "1.2.0",
            "_model_name": "LayoutModel",
            "_view_count": null,
            "_view_module": "@jupyter-widgets/base",
            "_view_module_version": "1.2.0",
            "_view_name": "LayoutView",
            "align_content": null,
            "align_items": null,
            "align_self": null,
            "border": null,
            "bottom": null,
            "display": null,
            "flex": null,
            "flex_flow": null,
            "grid_area": null,
            "grid_auto_columns": null,
            "grid_auto_flow": null,
            "grid_auto_rows": null,
            "grid_column": null,
            "grid_gap": null,
            "grid_row": null,
            "grid_template_areas": null,
            "grid_template_columns": null,
            "grid_template_rows": null,
            "height": null,
            "justify_content": null,
            "justify_items": null,
            "left": null,
            "margin": null,
            "max_height": null,
            "max_width": null,
            "min_height": null,
            "min_width": null,
            "object_fit": null,
            "object_position": null,
            "order": null,
            "overflow": null,
            "overflow_x": null,
            "overflow_y": null,
            "padding": null,
            "right": null,
            "top": null,
            "visibility": null,
            "width": null
          }
        },
        "e4e44a41393a45d99af8067d2ff29370": {
          "model_module": "@jupyter-widgets/controls",
          "model_module_version": "1.5.0",
          "model_name": "ProgressStyleModel",
          "state": {
            "_model_module": "@jupyter-widgets/controls",
            "_model_module_version": "1.5.0",
            "_model_name": "ProgressStyleModel",
            "_view_count": null,
            "_view_module": "@jupyter-widgets/base",
            "_view_module_version": "1.2.0",
            "_view_name": "StyleView",
            "bar_color": null,
            "description_width": ""
          }
        },
        "f1b84c7bdc4c4963b7931692abbbce73": {
          "model_module": "@jupyter-widgets/base",
          "model_module_version": "1.2.0",
          "model_name": "LayoutModel",
          "state": {
            "_model_module": "@jupyter-widgets/base",
            "_model_module_version": "1.2.0",
            "_model_name": "LayoutModel",
            "_view_count": null,
            "_view_module": "@jupyter-widgets/base",
            "_view_module_version": "1.2.0",
            "_view_name": "LayoutView",
            "align_content": null,
            "align_items": null,
            "align_self": null,
            "border": null,
            "bottom": null,
            "display": null,
            "flex": null,
            "flex_flow": null,
            "grid_area": null,
            "grid_auto_columns": null,
            "grid_auto_flow": null,
            "grid_auto_rows": null,
            "grid_column": null,
            "grid_gap": null,
            "grid_row": null,
            "grid_template_areas": null,
            "grid_template_columns": null,
            "grid_template_rows": null,
            "height": null,
            "justify_content": null,
            "justify_items": null,
            "left": null,
            "margin": null,
            "max_height": null,
            "max_width": null,
            "min_height": null,
            "min_width": null,
            "object_fit": null,
            "object_position": null,
            "order": null,
            "overflow": null,
            "overflow_x": null,
            "overflow_y": null,
            "padding": null,
            "right": null,
            "top": null,
            "visibility": null,
            "width": null
          }
        }
      }
    }
  },
  "nbformat": 4,
  "nbformat_minor": 0
}
